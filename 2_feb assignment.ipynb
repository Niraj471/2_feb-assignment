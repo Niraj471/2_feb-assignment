{
 "cells": [
  {
   "cell_type": "code",
   "execution_count": 9,
   "id": "435caf37-4127-4080-a843-0c933d933f5a",
   "metadata": {},
   "outputs": [
    {
     "name": "stdin",
     "output_type": "stream",
     "text": [
      "enter option 1 or 2 for loop 1\n"
     ]
    },
    {
     "name": "stdout",
     "output_type": "stream",
     "text": [
      "9\n",
      "16\n",
      "36\n",
      "64\n"
     ]
    }
   ],
   "source": [
    "##Q1.)\n",
    "##Ans: A \"for\" loop is ussed to repeat a specific block of code a known number of times.for example , i we want to check the grade of every student in the class,we loop from 1 to that number.\n",
    "      ##When the number is not known before hand ,we use \"While\"loop.\n",
    "      ##A \"for\" loop  used only when we already knew the number of iteration are not exactly known.\n",
    "      ##The main reason thet\" while \" is much slower is because the while loop checks condition after each iteration,so if you are going to write this code,justuse a for loop instead.\n",
    "\n",
    "    \n",
    "##example.\n",
    "\n",
    "n = int(input(\"enter option 1 or 2 for loop\"))\n",
    "\n",
    "if n == 1:\n",
    "    \n",
    "    l1 = [3,4,6,8]\n",
    "    for i in l1:\n",
    "        print(i**2) \n",
    "\n",
    "elif n ==2:\n",
    "    count = 10\n",
    "    while count >=1:\n",
    "        print(count)\n",
    "        count = count - 1\n",
    "    "
   ]
  },
  {
   "cell_type": "code",
   "execution_count": 52,
   "id": "81549ecb-3128-44b5-9a66-fd5573726ed3",
   "metadata": {},
   "outputs": [
    {
     "name": "stdout",
     "output_type": "stream",
     "text": [
      "The product of first 10 natural number is =  3628800\n",
      "The sum of first 10 natural number is =  55\n"
     ]
    }
   ],
   "source": [
    "##Q2.)\n",
    "sum = 0\n",
    "for i in range(1,11):\n",
    "    \n",
    "    sum = sum + i   \n",
    "    count = 1\n",
    "    product = 1\n",
    "    while count <= 10:\n",
    "        product = product * count\n",
    "        count = count + 1\n",
    "print(\"The product of first 10 natural number is = \" ,product)        \n",
    "print(\"The sum of first 10 natural number is = \",sum)    "
   ]
  },
  {
   "cell_type": "code",
   "execution_count": 9,
   "id": "393a97dd-e6cc-4072-bb28-df4fcaebfccf",
   "metadata": {},
   "outputs": [
    {
     "name": "stdin",
     "output_type": "stream",
     "text": [
      "enter the number of units you consumed 310\n"
     ]
    },
    {
     "name": "stdout",
     "output_type": "stream",
     "text": [
      "your household bill is = 2250.0 rs\n"
     ]
    }
   ],
   "source": [
    "##Q3.)\n",
    "\n",
    "units =float(input(\"enter the number of units you consumed\"))\n",
    "\n",
    "if units <= 100:\n",
    "    bill = units * 4.5\n",
    "    print(\"your household bill is  =\",bill,\"rs\")    \n",
    "\n",
    "elif units <= 200 and units > 100:\n",
    "    bill = 100 * 4.5 + (units - 100) * 6\n",
    "    print(\"your household bill is =\", bill,\"rs\")\n",
    "    \n",
    "elif units <=300 and units > 200:\n",
    "    bill = 100 * 4.5 + 100 * 6 + (units - 200) * 10\n",
    "    print(\"your household bill is =\", bill,\"rs\")\n",
    "    \n",
    "else:\n",
    "    bill = 100 * 4.5 + 100 * 6 + 100 * 10 + (units - 300 ) * 20\n",
    "    print(\"your household bill is =\", bill,\"rs\")\n",
    "    "
   ]
  },
  {
   "cell_type": "code",
   "execution_count": null,
   "id": "87e80198-354f-4178-8c4c-0bc58bf322e5",
   "metadata": {},
   "outputs": [
    {
     "name": "stdout",
     "output_type": "stream",
     "text": [
      "[4, 5, 8, 10, 12, 15, 16, 20, 24, 25, 28, 30, 32, 35, 36, 40, 44, 45, 48, 50, 52, 55, 56, 60, 64, 65, 68, 70, 72, 75, 76, 80, 84, 85, 88, 90, 92, 95, 96, 100]\n"
     ]
    }
   ],
   "source": [
    "##Q4.)\n",
    "\n",
    "#using for loop\n",
    "\n",
    "l2 = []\n",
    "\n",
    "for i in range(1,101):\n",
    "    if i%4 == 0 or i%5 == 0:\n",
    "        l2.append(i)\n",
    "print(l2)        \n",
    "            \n",
    "#using while loop\n",
    "l2 =[]\n",
    "i = 1\n",
    "while i <= 100:\n",
    "    if i%4 == 0 or i%5 == 0:\n",
    "        l2.append(i)\n",
    "        i += 1 \n",
    "print(i)        \n",
    "    "
   ]
  },
  {
   "cell_type": "code",
   "execution_count": 1,
   "id": "051faecd-f039-44c9-8d11-20d0433cde05",
   "metadata": {},
   "outputs": [
    {
     "name": "stdout",
     "output_type": "stream",
     "text": [
      "The number of vowels in the given string is = 12\n"
     ]
    }
   ],
   "source": [
    "##Q5.)\n",
    "\n",
    "string = \"I want to become a data scientist\"\n",
    "\n",
    "vowels = \"AEIOUaeiou\"\n",
    "\n",
    "count = 0\n",
    "\n",
    "for i in string:\n",
    "    if i in vowels:\n",
    "        count += 1\n",
    "        \n",
    "print(\"The number of vowels in the given string is =\",count)        "
   ]
  },
  {
   "cell_type": "code",
   "execution_count": null,
   "id": "21f994d6-eaa8-4c3b-adc5-c518c480ed78",
   "metadata": {},
   "outputs": [],
   "source": []
  },
  {
   "cell_type": "code",
   "execution_count": null,
   "id": "4e823ef4-245f-47cd-b781-0305b76528c2",
   "metadata": {},
   "outputs": [],
   "source": []
  }
 ],
 "metadata": {
  "kernelspec": {
   "display_name": "Python 3 (ipykernel)",
   "language": "python",
   "name": "python3"
  },
  "language_info": {
   "codemirror_mode": {
    "name": "ipython",
    "version": 3
   },
   "file_extension": ".py",
   "mimetype": "text/x-python",
   "name": "python",
   "nbconvert_exporter": "python",
   "pygments_lexer": "ipython3",
   "version": "3.10.8"
  }
 },
 "nbformat": 4,
 "nbformat_minor": 5
}
